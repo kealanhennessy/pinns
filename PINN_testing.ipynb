{
 "cells": [
  {
   "cell_type": "code",
   "execution_count": null,
   "id": "80c76431-4ab8-4690-b59b-89aeb7b8e553",
   "metadata": {},
   "outputs": [],
   "source": [
    "\"\"\"\n",
    "@author: Kealan Hennessy\n",
    "@author: Maziar Raissi\n",
    "\"\"\"\n",
    "\n",
    "import tensorflow as tf\n",
    "import numpy as np\n",
    "import scipy.io\n",
    "import time\n",
    "from Burgers_custom import PhysicsInformedNN\n",
    "\n",
    "np.random.seed(1234)\n",
    "tf.random.set_seed(1234)\n",
    "tf.keras.backend.set_floatx(\"float32\")"
   ]
  },
  {
   "cell_type": "code",
   "execution_count": null,
   "id": "17e1886c-9b9f-4ac1-a129-2d92639d1999",
   "metadata": {},
   "outputs": [],
   "source": [
    "data_fpath = './burgers_shock.mat'\n",
    "lambda_1_true, lambda_2_true = 1.0, (0.01/np.pi)\n",
    "\n",
    "def get_all(fpath):\n",
    "    data = scipy.io.loadmat(fpath)\n",
    "    x, t, u_exact = data['x'], data['t'], np.real(data['usol']).T\n",
    "    xx, tt = np.meshgrid(x, t)\n",
    "    X_all = np.hstack((xx.flatten()[:,None], tt.flatten()[:,None]))\n",
    "    y_all = u_exact.flatten()[:,None]\n",
    "    lb = X_all.min(0) # lower domain bound\n",
    "    ub = X_all.max(0) # upper domain bound\n",
    "    return X_all, y_all, lb, ub\n",
    "\n",
    "def pick_cpoints(X_all, y_all, N_u):\n",
    "    idx = np.random.choice(np.shape(X_all)[0], N_u, replace=False)\n",
    "    X, y = X_all[idx,:], y_all[idx,:]\n",
    "    return X, y\n",
    "\n",
    "def add_noise(u_train, noise):\n",
    "    noisy_u_train = u_train + noise*np.std(u_train)*np.random.randn(u_train.shape[0], u_train.shape[1])\n",
    "    return noisy_u_train"
   ]
  },
  {
   "cell_type": "code",
   "execution_count": null,
   "id": "0c466d52-876e-4446-9667-d08a4ee05189",
   "metadata": {},
   "outputs": [],
   "source": [
    "def main_loop(N_u, noise, num_layers, num_units, activation):\n",
    "    X_all, y_all, lb, ub = get_all(data_fpath)\n",
    "    X_train, y_train = pick_cpoints(X_all, y_all, N_u)\n",
    "    if noise:\n",
    "        y_train = add_noise(y_train, noise)\n",
    "\n",
    "    model = PhysicsInformedNN(X_train, y_train, num_layers, num_units, lb, ub, activation)\n",
    "    model.train(nIter_Adam=5000, use_LBFGSB=True)\n",
    "\n",
    "    u_pred, f_pred = model.predict(X_all)\n",
    "    lambda_1_val = model.lambda_1\n",
    "    lambda_2_val = np.exp(model.lambda_2)\n",
    "    \n",
    "    error_u = np.divide(np.linalg.norm(y_all - u_pred, 2), np.linalg.norm(y_all, 2))\n",
    "    pct_error_l1 = np.abs(lambda_1_val - lambda_1_true) * 100\n",
    "    pct_error_l2 = (np.divide(np.abs(lambda_2_val - lambda_2_true), (0.01/np.pi))) * 100\n",
    "\n",
    "    print('Error u: %e' % (error_u))\n",
    "    print('Error l1: %.5f%%' % (pct_error_l1[0]))\n",
    "    print('Error l2: %.5f%%' % (pct_error_l2[0]))\n",
    "\n",
    "    return pct_error_l1[0], pct_error_l2[0]"
   ]
  },
  {
   "cell_type": "code",
   "execution_count": null,
   "id": "fe03414c-5380-4dde-bb7d-19815a1d0528",
   "metadata": {},
   "outputs": [],
   "source": [
    "N_u = [500, 1000, 1500, 2000]\n",
    "noise = [0.0, 0.01, 0.05, 0.1]\n",
    "num_layers = [2, 4, 6, 8]\n",
    "num_units = [10, 20, 40]\n",
    "error_lambda_1_table_1 = np.zeros((len(N_u), len(noise)))\n",
    "error_lambda_2_table_1 = np.zeros((len(N_u), len(noise)))\n",
    "error_lambda_1_table_2 = np.zeros((len(num_layers), len(num_units)))\n",
    "error_lambda_2_table_2 = np.zeros((len(num_layers), len(num_units)))"
   ]
  },
  {
   "cell_type": "code",
   "execution_count": null,
   "id": "a90bee99-5835-4bc0-83d4-861a1990e45d",
   "metadata": {},
   "outputs": [],
   "source": [
    "start_time = time.time()\n",
    "print('*'*50, 'Beginning systemic discovery loop', '*'*50)\n",
    "\n",
    "for i in range(len(N_u)):\n",
    "    for j in range(len(noise)):\n",
    "        print('*'*30, 'Beginning discovery: ', 'Num. of collocation points:', N_u[i], ', Noise:', int(noise[j]*100), '%', '*'*30)\n",
    "        error_lambda_1_table_1[i,j], error_lambda_2_table_1[i,j] = main_loop(N_u[i], noise[j], num_layers[-1], num_units[-1], 'relu')\n",
    "        print('*'*50, 'Discovery complete', '*'*50)\n",
    "\n",
    "for i in range(len(num_layers)):\n",
    "    for j in range(len(num_units)):\n",
    "        print('*'*30, 'Beginning discovery: ', 'Num. of surrogate layers:', num_layers[i], ', Num. of surrogate units:', num_units[j], '*'*30)\n",
    "        error_lambda_1_table_2[i,j], error_lambda_2_table_2[i,j] = main_loop(N_u[-1], noise[0], num_layers[i], num_units[j], 'relu')\n",
    "        print('*'*50, 'Discovery complete', '*'*50)\n",
    "\n",
    "print('*'*50, 'Systemic discovery loop complete', '*'*50)\n",
    "end_time = time.time()\n",
    "print('*'*50, \"Time to completion:\", (np.abs(start_time - end_time)), '*'*50)"
   ]
  },
  {
   "cell_type": "code",
   "execution_count": null,
   "id": "75e0b812-e1af-4db8-b2dd-447db06b4faf",
   "metadata": {},
   "outputs": [],
   "source": [
    "np.savetxt('./tables/error_lambda_1_table_1.csv', error_lambda_1_table_1, delimiter=' & ', fmt='$%2.3f$', newline=' \\\\\\\\\\n')\n",
    "np.savetxt('./tables/error_lambda_2_table_1.csv', error_lambda_2_table_1, delimiter=' & ', fmt='$%2.3f$', newline=' \\\\\\\\\\n')\n",
    "np.savetxt('./tables/error_lambda_1_table_2.csv', error_lambda_1_table_2, delimiter=' & ', fmt='$%2.3f$', newline=' \\\\\\\\\\n')\n",
    "np.savetxt('./tables/error_lambda_2_table_2.csv', error_lambda_2_table_2, delimiter=' & ', fmt='$%2.3f$', newline=' \\\\\\\\\\n')"
   ]
  },
  {
   "cell_type": "code",
   "execution_count": 28,
   "id": "84f15d35-0d56-4ad0-90cd-39a7cdb327ca",
   "metadata": {},
   "outputs": [],
   "source": [
    "k_table1 = [[0.085, 0.102, 1.128, 0.216, 11.195, 0.566, 2.456, 25.478], [0.029, 0.047, 0.464, 0.868, 0.704, 0.144, 1.788, 6.800], [0.059, 0.029, 0.635, 0.015, 1.103, 0.829, 2.183, 6.265], [0.006, 0.105, 0.890, 0.551, 0.173, 0.689, 4.487, 4.877]]"
   ]
  },
  {
   "cell_type": "code",
   "execution_count": 29,
   "id": "fff541e5-bf28-47c5-9b7b-1e2dcff91654",
   "metadata": {},
   "outputs": [],
   "source": [
    "k_table2 = [[29.896, 18.328, 24.828, 107.581, 16.358, 34.267], [1.402, 0.239, 0.156, 12.127, 2.268, 3.718], [0.049, 0.112, 0.052, 0.710, 0.078, 0.042], [0.343, 0.025, 0.041, 1.772, 0.329, 0.598]]"
   ]
  },
  {
   "cell_type": "code",
   "execution_count": 30,
   "id": "98d487e1-7690-4603-b842-6ce2a2e45b39",
   "metadata": {},
   "outputs": [],
   "source": [
    "raissi_table1 = [[0.131, 0.518, 0.118, 1.319, 13.885, 0.483, 1.708, 4.058], [0.186, 0.533, 0.157, 1.869, 3.719, 8.262, 3.481, 14.544],[0.432, 0.033, 0.706, 0.725, 3.093, 1.423, 0.502, 3.156], [0.096, 0.039, 0.190, 0.101, 0.469, 0.008, 6.216, 6.391]]"
   ]
  },
  {
   "cell_type": "code",
   "execution_count": 31,
   "id": "b8e0b129-f128-4595-a5e4-e72b0b505826",
   "metadata": {},
   "outputs": [],
   "source": [
    "raissi_table2 = [[11.696, 2.837, 1.679, 103.919, 67.055, 49.186], [0.332, 0.109, 0.428, 4.721, 1.234, 6.170], [0.668, 0.629, 0.118, 3.144, 3.123, 1.158], [0.414, 0.141, 0.266, 8.459, 1.902, 1.552]]"
   ]
  },
  {
   "cell_type": "code",
   "execution_count": 35,
   "id": "31809a4c-f141-46fd-b3c7-6b62276eed3c",
   "metadata": {},
   "outputs": [],
   "source": [
    "diffs_t1 = []\n",
    "for i in range(len(k_table1)):\n",
    "    diff = []\n",
    "    for j in range(len(k_table1[i])):\n",
    "        d = raissi_table1[i][j] - k_table1[i][j]\n",
    "        diff.append(d)\n",
    "    diffs_t1.append(diff)\n",
    "\n",
    "diffs_t2 = []\n",
    "for i in range(len(k_table2)):\n",
    "    diff = []\n",
    "    for j in range(len(k_table2[i])):\n",
    "        d = raissi_table2[i][j] - k_table2[i][j]\n",
    "        diff.append(d)\n",
    "    diffs_t2.append(diff)"
   ]
  },
  {
   "cell_type": "code",
   "execution_count": 38,
   "id": "e0c7d129-3d69-4fb1-b1ec-6fa37fcf6512",
   "metadata": {},
   "outputs": [
    {
     "data": {
      "text/plain": [
       "[[-18.200000000000003,\n",
       "  -15.491,\n",
       "  -23.149,\n",
       "  -3.662000000000006,\n",
       "  50.697,\n",
       "  14.918999999999997],\n",
       " [-1.0699999999999998,\n",
       "  -0.13,\n",
       "  0.272,\n",
       "  -7.406000000000001,\n",
       "  -1.0339999999999998,\n",
       "  2.452],\n",
       " [0.619, 0.517, 0.066, 2.434, 3.0450000000000004, 1.1159999999999999],\n",
       " [0.07099999999999995,\n",
       "  0.11599999999999999,\n",
       "  0.225,\n",
       "  6.686999999999999,\n",
       "  1.573,\n",
       "  0.9540000000000001]]"
      ]
     },
     "execution_count": 38,
     "metadata": {},
     "output_type": "execute_result"
    }
   ],
   "source": [
    "diffs_t2"
   ]
  },
  {
   "cell_type": "code",
   "execution_count": null,
   "id": "d4521221-471b-4996-af38-3497f19a5bb9",
   "metadata": {},
   "outputs": [],
   "source": []
  }
 ],
 "metadata": {
  "kernelspec": {
   "display_name": "Python 3 (ipykernel)",
   "language": "python",
   "name": "python3"
  },
  "language_info": {
   "codemirror_mode": {
    "name": "ipython",
    "version": 3
   },
   "file_extension": ".py",
   "mimetype": "text/x-python",
   "name": "python",
   "nbconvert_exporter": "python",
   "pygments_lexer": "ipython3",
   "version": "3.11.6"
  }
 },
 "nbformat": 4,
 "nbformat_minor": 5
}
